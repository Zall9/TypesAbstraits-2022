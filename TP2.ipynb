{
 "cells": [
  {
   "cell_type": "markdown",
   "metadata": {},
   "source": [
    "# TP2 Types Abstraits"
   ]
  },
  {
   "cell_type": "code",
   "execution_count": 1,
   "metadata": {},
   "outputs": [],
   "source": [
    "class Chaine:\n",
    "    def __init__(self):\n",
    "        self.contenu = \"\"\n",
    "    def lire(self):\n",
    "        return self.contenu\n",
    "    def lireChar(self,indice):\n",
    "        return self.contenu[indice]\n",
    "    def ecrire(self,indice,caractere):\n",
    "        self.contenu = self.contenu[:indice] + caractere + self.contenu[indice+1:]\n",
    "    def longueur(self):\n",
    "        return len(self.contenu)\n",
    "    def add(self,chaine):\n",
    "        return Chaine(self.contenu + chaine.contenu)\n",
    "    def mul(self,nombre):\n",
    "        return Chaine(self.contenu * nombre)\n",
    "    def len(self):\n",
    "        return len(self.contenu)\n",
    "    def eq(self,chaine):\n",
    "        return self.contenu == chaine.contenu\n",
    "    def ne(self,chaine):\n",
    "        return self.contenu != chaine.contenu\n",
    "    def lt(self,chaine):\n",
    "        return self.contenu < chaine.contenu\n",
    "    def gt(self,chaine):\n",
    "        return self.contenu > chaine.contenu\n",
    "    def le(self,chaine):\n",
    "        return self.contenu <= chaine.contenu\n",
    "    def ge(self,chaine):\n",
    "        return self.contenu >= chaine.contenu\n",
    "    def invert(self):\n",
    "        return Chaine(self.contenu[::-1])\n",
    "    def contain(self,chaine):\n",
    "        return chaine.lire() in self.lire()\n",
    "    def reverse(self):\n",
    "        return Chaine(self.contenu[::-1])"
   ]
  },
  {
   "cell_type": "code",
   "execution_count": 67,
   "metadata": {},
   "outputs": [
    {
     "name": "stdout",
     "output_type": "stream",
     "text": [
      "EUR\n"
     ]
    },
    {
     "data": {
      "text/plain": [
       "True"
      ]
     },
     "execution_count": 67,
     "metadata": {},
     "output_type": "execute_result"
    }
   ],
   "source": [
    "c1=Chaine()\n",
    "c2=Chaine()\n",
    "c2.contenu=\"VALEUR\"\n",
    "c1.contenu=\"EUROPE\"\n",
    "#TODO les invariants de boucles\n",
    "def annonce(c1,c2): \n",
    "    chaineIntermediaire = Chaine()\n",
    "    if(c1.len()>=c2.len()):\n",
    "        taille=c1.len()\n",
    "    else:\n",
    "        taille=c2.len()\n",
    "    cpt=0\n",
    "    commun=0\n",
    "    for i in range(cpt,taille):\n",
    "        for j in range(cpt,taille):\n",
    "            if(c1.lireChar(i)==c2.lireChar(j)):\n",
    "                chaineIntermediaire.ecrire(i,c1.lireChar(i))\n",
    "                commun+=1\n",
    "                break\n",
    "        cpt+=1\n",
    "    if(c1.contenu[:commun]==chaineIntermediaire.contenu): #TODO utiliser les fonctions du type abstrait plutot que les [:]\n",
    "        return True # return la chaine annoncée\n",
    "    return False # return chaine vide\n",
    "annonce(c1,c2)"
   ]
  },
  {
   "cell_type": "code",
   "execution_count": 3,
   "metadata": {},
   "outputs": [
    {
     "data": {
      "text/plain": [
       "'EUROPE'"
      ]
     },
     "execution_count": 3,
     "metadata": {},
     "output_type": "execute_result"
    }
   ],
   "source": [
    "c1=Chaine()\n",
    "c1.ecrire(0,\"EUROPE\")\n",
    "c1.lire()"
   ]
  },
  {
   "cell_type": "code",
   "execution_count": 4,
   "metadata": {},
   "outputs": [
    {
     "name": "stdout",
     "output_type": "stream",
     "text": [
      "pileVide\n",
      "True\n",
      "PileNonVide\n",
      "False\n",
      "sommet(empiler(pileVide,x))=x\n",
      "x= 1 Le sommet de la pile après empilage de x vaut:  1\n",
      "reste(empiler(pileVide,x))=pile\n",
      "x= 1 Le reste de la pile après empilage de x vaut:  [1]\n"
     ]
    }
   ],
   "source": [
    "#class pile\n",
    "class Pile:\n",
    "    \"\"\"Le constructeur de la classe Pile. Il est utilisé pour initialiser les attributs de la classe.\n",
    "    maxsize : taille maximale de la pile.*\n",
    "    \"\"\"\n",
    "    def __init__(self,maxsize):\n",
    "        self.maxsize = maxsize\n",
    "        self.top = None\n",
    "        self.items = []\n",
    "    def empiler(self,item):\n",
    "        \"\"\"Ajout d'un élément à la pile.\"\"\"\n",
    "        if self.PileVide():\n",
    "            self.top = item\n",
    "            self.items.append(item)\n",
    "        else:\n",
    "            if(self.PilePleine()):\n",
    "                print(\"La pile est pleine\")\n",
    "                return\n",
    "            self.items.append(item)\n",
    "            self.top=self.items[-1]\n",
    "            \n",
    "    def PileVide(self):\n",
    "        \"\"\"Boolean qui indique si la pile est vide ou non.\"\"\"\n",
    "        return self.items == []\n",
    "    def depiler(self):\n",
    "        \"\"\"Suppression du dernier élément de la liste.\"\"\"\n",
    "        if self.PileVide():\n",
    "            print(\"La pile est vide\")\n",
    "            return\n",
    "        self.items.pop()\n",
    "        if self.PileVide():\n",
    "            self.top = None\n",
    "        else:\n",
    "            self.top = self.items[-1]\n",
    "            \n",
    "    def PilePleine(self):\n",
    "        \"\"\"Boolean qui indique si la pile est pleine ou non.\"\"\"\n",
    "        return len(self.items) == self.maxsize\n",
    "    def sommet(self):\n",
    "        \"\"\"Methode qui renvoie le sommet de la pile.\"\"\"\n",
    "        return self.top\n",
    "    def reste(self):\n",
    "        \"\"\"Methode qui renvoie le reste de la pile\"\"\"\n",
    "        self.depiler()\n",
    "        return self.items\n",
    "\n",
    "##Axioms\n",
    "#pileVide=?Pile()\n",
    "pileVide=Pile(5)\n",
    "print(\"pileVide\")\n",
    "print(pileVide.PileVide())\n",
    "#pileNonVide=?Pile()\n",
    "print(\"PileNonVide\")\n",
    "pileNonVide=Pile(5)\n",
    "pileNonVide.empiler(1)\n",
    "print(pileNonVide.PileVide())\n",
    "#sommet(empiler(pileVide,x))=x\n",
    "print(\"sommet(empiler(pileVide,x))=x\")\n",
    "pileVide=Pile(5)\n",
    "x=1\n",
    "pileVide.empiler(x)\n",
    "print(\"x=\",x,\"Le sommet de la pile après empilage de x vaut: \",pileVide.sommet())\n",
    "#reste(empiler(pileVide,x))=pile\n",
    "print(\"reste(empiler(pileVide,x))=pile\")\n",
    "pileVide=Pile(5)\n",
    "x=1\n",
    "x2=2\n",
    "pileVide.empiler(x)\n",
    "pileVide.empiler(x2)\n",
    "print(\"x=\",x,\"Le reste de la pile après empilage de x vaut: \",pileVide.reste())\n",
    "\n",
    "\n"
   ]
  },
  {
   "cell_type": "code",
   "execution_count": 5,
   "metadata": {},
   "outputs": [
    {
     "name": "stdout",
     "output_type": "stream",
     "text": [
      "L'état de la pile de gauche avant hanoi [4, 3, 2, 1]\n",
      "L'état de la pile de droite avant hanoi []\n",
      "L'état de la pile de gauche après hanoi []\n",
      "L'état de la pile de droite après hanoi [4, 3, 2, 1]\n"
     ]
    }
   ],
   "source": [
    "#hanoi using class pile\n",
    "\n",
    "taillePiles=4\n",
    "pileSrc=Pile(taillePiles)\n",
    "pileAux=Pile(taillePiles)\n",
    "pileDest=Pile(taillePiles)\n",
    "pileSrc.empiler(4)\n",
    "pileSrc.empiler(3)\n",
    "pileSrc.empiler(2)\n",
    "pileSrc.empiler(1)\n",
    "def hanoi(nombrePiles,pileSrc,pileAux,pileDest):\n",
    "\tif nombrePiles == 1:\n",
    "\t\tpileDest.empiler(pileSrc.sommet())\n",
    "\t\tpileSrc.depiler()\n",
    "\telse:\n",
    "\t\thanoi(nombrePiles-1,pileSrc,pileDest,pileAux)\n",
    "\t\thanoi(1,pileSrc,pileAux,pileDest)\n",
    "\t\thanoi(nombrePiles-1,pileAux,pileSrc,pileDest)\n",
    "print(\"L'état de la pile de gauche avant hanoi\",pileSrc.items)\n",
    "print(\"L'état de la pile de droite avant hanoi\",pileDest.items)\n",
    "hanoi(4,pileSrc,pileAux,pileDest)\n",
    "print(\"L'état de la pile de gauche après hanoi\",pileSrc.items)\n",
    "print(\"L'état de la pile de droite après hanoi\",pileDest.items)\n"
   ]
  },
  {
   "cell_type": "code",
   "execution_count": 6,
   "metadata": {},
   "outputs": [
    {
     "name": "stdout",
     "output_type": "stream",
     "text": [
      "pileVide\n",
      "True\n",
      "PileNonVide\n",
      "False\n",
      "sommet(empiler(pileVide,x))=x\n",
      "x= 1 Le sommet de la pile après empilage de x vaut:  1\n",
      "reste(empiler(pileVide,x2))=pile\n",
      "x2= 2 Le reste de la pile après empilage de x vaut:  [1]\n"
     ]
    }
   ],
   "source": [
    "class Pile:\n",
    "    def __init__(self,maxsize):\n",
    "        self.maxsize=maxsize\n",
    "        self.top=None\n",
    "        self.next=None\n",
    "        self.items=[]\n",
    "    def PileVide(self):\n",
    "        return self.items == []\n",
    "    def PilePleine(self):\n",
    "        return len(self.items) == self.maxsize\n",
    "    def empiler(self,item):\n",
    "        if self.PileVide():\n",
    "            self.top=item\n",
    "            self.items.append(item)\n",
    "        else:\n",
    "            if self.PilePleine():\n",
    "                print(\"La pile est pleine\")\n",
    "                return\n",
    "            self.items.append(item)\n",
    "            self.next=self.items[len(self.items)-1]\n",
    "            self.top=self.items[-1]\n",
    "    def depiler(self):\n",
    "        if self.PileVide():\n",
    "            print(\"La pile est vide\")\n",
    "            return\n",
    "        del(self.items[-1])\n",
    "        if self.PileVide():\n",
    "            self.top=None\n",
    "        else:\n",
    "            self.top=self.items[-1]\n",
    "            self.next=self.items[len(self.items)-1]\n",
    "    def sommet(self):\n",
    "        return self.top\n",
    "    def reste(self):\n",
    "        self.depiler()\n",
    "        self.next=self.items[len(self.items)-1]\n",
    "        return self.items\n",
    "\n",
    "##Axioms\n",
    "#pileVide=?Pile()\n",
    "pileVide=Pile(5)\n",
    "print(\"pileVide\")\n",
    "print(pileVide.PileVide())\n",
    "#pileNonVide=?Pile()\n",
    "print(\"PileNonVide\")\n",
    "pileNonVide=Pile(5)\n",
    "pileNonVide.empiler(1)\n",
    "print(pileNonVide.PileVide())\n",
    "#sommet(empiler(pileVide,x))=x\n",
    "print(\"sommet(empiler(pileVide,x))=x\")\n",
    "pileVide=Pile(5)\n",
    "x=1\n",
    "pileVide.empiler(x)\n",
    "print(\"x=\",x,\"Le sommet de la pile après empilage de x vaut: \",pileVide.sommet())\n",
    "#reste(empiler(pileVide,x))=pile\n",
    "print(\"reste(empiler(pileVide,x2))=pile\")\n",
    "pileVide=Pile(5)\n",
    "x=1\n",
    "x2=2\n",
    "pileVide.empiler(x)\n",
    "pileVide.empiler(x2)\n",
    "print(\"x2=\",x2,\"Le reste de la pile après empilage de x vaut: \",pileVide.reste())\n",
    "\n"
   ]
  },
  {
   "cell_type": "code",
   "execution_count": 7,
   "metadata": {},
   "outputs": [
    {
     "name": "stdout",
     "output_type": "stream",
     "text": [
      "L'état de la pile de gauche avant hanoi [4, 3, 2, 1]\n",
      "L'état de la pile de droite avant hanoi []\n",
      "L'état de la pile de gauche après hanoi []\n",
      "L'état de la pile de droite après hanoi [4, 3, 2, 1]\n"
     ]
    }
   ],
   "source": [
    "taillePiles=4\n",
    "pileSrc=Pile(taillePiles)\n",
    "pileAux=Pile(taillePiles)\n",
    "pileDest=Pile(taillePiles)\n",
    "pileSrc.empiler(4)\n",
    "pileSrc.empiler(3)\n",
    "pileSrc.empiler(2)\n",
    "pileSrc.empiler(1)\n",
    "def hanoi(nombrePiles,pileSrc,pileAux,pileDest):\n",
    "\tif nombrePiles == 1:\n",
    "\t\tpileDest.empiler(pileSrc.sommet())\n",
    "\t\tpileSrc.depiler()\n",
    "\telse:\n",
    "\t\thanoi(nombrePiles-1,pileSrc,pileDest,pileAux)\n",
    "\t\thanoi(1,pileSrc,pileAux,pileDest)\n",
    "\t\thanoi(nombrePiles-1,pileAux,pileSrc,pileDest)\n",
    "print(\"L'état de la pile de gauche avant hanoi\",pileSrc.items)\n",
    "print(\"L'état de la pile de droite avant hanoi\",pileDest.items)\n",
    "hanoi(4,pileSrc,pileAux,pileDest)\n",
    "print(\"L'état de la pile de gauche après hanoi\",pileSrc.items)\n",
    "print(\"L'état de la pile de droite après hanoi\",pileDest.items)\n"
   ]
  }
 ],
 "metadata": {
  "interpreter": {
   "hash": "e7370f93d1d0cde622a1f8e1c04877d8463912d04d973331ad4851f04de6915a"
  },
  "kernelspec": {
   "display_name": "Python 3.10.2 64-bit",
   "language": "python",
   "name": "python3"
  },
  "language_info": {
   "codemirror_mode": {
    "name": "ipython",
    "version": 3
   },
   "file_extension": ".py",
   "mimetype": "text/x-python",
   "name": "python",
   "nbconvert_exporter": "python",
   "pygments_lexer": "ipython3",
   "version": "3.10.2"
  },
  "orig_nbformat": 4
 },
 "nbformat": 4,
 "nbformat_minor": 2
}
